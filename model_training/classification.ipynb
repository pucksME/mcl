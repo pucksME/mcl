{
 "cells": [
  {
   "cell_type": "code",
   "execution_count": 106,
   "metadata": {},
   "outputs": [],
   "source": [
    "# import os\n",
    "# os.environ[\"KERAS_BACKEND\"] = \"torch\"\n",
    "# os.environ[\"CUDA_LAUNCH_BLOCKING\"] = \"1\"\n",
    "# os.environ[\"TORCH_USE_CUDA_DSA\"] = \"1\"\n",
    "import keras\n",
    "import tensorflow as tf\n",
    "import numpy as np\n",
    "%matplotlib inline\n",
    "import matplotlib.pyplot as plt\n",
    "import pandas as pd \n",
    "\n",
    "from sklearn.model_selection import train_test_split\n",
    "# from sklearn.preprocessing import StandardScaler, OneHotEncoder\n",
    "# from scipy.stats import skew, kurtosis\n",
    "# from scipy.fftpack import fft\n",
    "\n",
    "from keras_tuner import HyperModel\n",
    "from keras_tuner.tuners import RandomSearch"
   ]
  },
  {
   "cell_type": "code",
   "execution_count": 107,
   "metadata": {},
   "outputs": [
    {
     "data": {
      "text/html": [
       "<div>\n",
       "<style scoped>\n",
       "    .dataframe tbody tr th:only-of-type {\n",
       "        vertical-align: middle;\n",
       "    }\n",
       "\n",
       "    .dataframe tbody tr th {\n",
       "        vertical-align: top;\n",
       "    }\n",
       "\n",
       "    .dataframe thead th {\n",
       "        text-align: right;\n",
       "    }\n",
       "</style>\n",
       "<table border=\"1\" class=\"dataframe\">\n",
       "  <thead>\n",
       "    <tr style=\"text-align: right;\">\n",
       "      <th></th>\n",
       "      <th>new_user_id</th>\n",
       "      <th>total_acc</th>\n",
       "      <th>x_acc</th>\n",
       "      <th>y_acc</th>\n",
       "      <th>z_acc</th>\n",
       "      <th>num_of_samples</th>\n",
       "      <th>signal_length_in_sec</th>\n",
       "    </tr>\n",
       "  </thead>\n",
       "  <tbody>\n",
       "    <tr>\n",
       "      <th>0</th>\n",
       "      <td>0</td>\n",
       "      <td>[0.7362116837612153, 0.8161704566822283, 2.322...</td>\n",
       "      <td>[0.2941316, -0.49968776, -2.1783454, -2.797762...</td>\n",
       "      <td>[-0.6356053, -0.6044512, 0.7134906, 1.3548992,...</td>\n",
       "      <td>[-0.22693644, -0.22602014, 0.37201694, -0.2776...</td>\n",
       "      <td>40</td>\n",
       "      <td>2</td>\n",
       "    </tr>\n",
       "    <tr>\n",
       "      <th>1</th>\n",
       "      <td>0</td>\n",
       "      <td>[1.3777305229373487, 1.5960753374387007, 1.203...</td>\n",
       "      <td>[1.1114693, 1.215011, 0.9126327, 0.21197024, 0...</td>\n",
       "      <td>[-0.6337727, -0.82894415, -0.40378192, -0.9318...</td>\n",
       "      <td>[-0.5109888, -0.6197228, -0.67347896, -0.37812...</td>\n",
       "      <td>40</td>\n",
       "      <td>2</td>\n",
       "    </tr>\n",
       "    <tr>\n",
       "      <th>2</th>\n",
       "      <td>0</td>\n",
       "      <td>[2.425892007118064, 3.302566174850101, 1.90556...</td>\n",
       "      <td>[1.4813483, 2.0045543, 1.8689423, 1.7660115, 0...</td>\n",
       "      <td>[-1.9147571, -2.6212227, -0.3643811, -3.342960...</td>\n",
       "      <td>[-0.15577064, -0.1337795, -0.07391469, -0.0665...</td>\n",
       "      <td>40</td>\n",
       "      <td>2</td>\n",
       "    </tr>\n",
       "    <tr>\n",
       "      <th>3</th>\n",
       "      <td>0</td>\n",
       "      <td>[0.9513855617281761, 1.9683277319562844, 1.314...</td>\n",
       "      <td>[0.66767573, -1.0225884, 0.19639318, -0.015882...</td>\n",
       "      <td>[-0.6423248, 1.6542231, 1.2999213, -1.4358387,...</td>\n",
       "      <td>[0.21624629, -0.3036, 0.019242255, -0.42760566...</td>\n",
       "      <td>40</td>\n",
       "      <td>2</td>\n",
       "    </tr>\n",
       "    <tr>\n",
       "      <th>4</th>\n",
       "      <td>0</td>\n",
       "      <td>[2.329359891123871, 1.6620954042937637, 0.8495...</td>\n",
       "      <td>[-1.8026633, -0.8240572, 0.4560109, 1.2605205,...</td>\n",
       "      <td>[1.3573426, 1.325883, 0.46822822, -0.1301143, ...</td>\n",
       "      <td>[0.57787853, 0.5705481, 0.54275376, 0.66553766...</td>\n",
       "      <td>40</td>\n",
       "      <td>2</td>\n",
       "    </tr>\n",
       "  </tbody>\n",
       "</table>\n",
       "</div>"
      ],
      "text/plain": [
       "   new_user_id                                          total_acc  \\\n",
       "0            0  [0.7362116837612153, 0.8161704566822283, 2.322...   \n",
       "1            0  [1.3777305229373487, 1.5960753374387007, 1.203...   \n",
       "2            0  [2.425892007118064, 3.302566174850101, 1.90556...   \n",
       "3            0  [0.9513855617281761, 1.9683277319562844, 1.314...   \n",
       "4            0  [2.329359891123871, 1.6620954042937637, 0.8495...   \n",
       "\n",
       "                                               x_acc  \\\n",
       "0  [0.2941316, -0.49968776, -2.1783454, -2.797762...   \n",
       "1  [1.1114693, 1.215011, 0.9126327, 0.21197024, 0...   \n",
       "2  [1.4813483, 2.0045543, 1.8689423, 1.7660115, 0...   \n",
       "3  [0.66767573, -1.0225884, 0.19639318, -0.015882...   \n",
       "4  [-1.8026633, -0.8240572, 0.4560109, 1.2605205,...   \n",
       "\n",
       "                                               y_acc  \\\n",
       "0  [-0.6356053, -0.6044512, 0.7134906, 1.3548992,...   \n",
       "1  [-0.6337727, -0.82894415, -0.40378192, -0.9318...   \n",
       "2  [-1.9147571, -2.6212227, -0.3643811, -3.342960...   \n",
       "3  [-0.6423248, 1.6542231, 1.2999213, -1.4358387,...   \n",
       "4  [1.3573426, 1.325883, 0.46822822, -0.1301143, ...   \n",
       "\n",
       "                                               z_acc  num_of_samples  \\\n",
       "0  [-0.22693644, -0.22602014, 0.37201694, -0.2776...              40   \n",
       "1  [-0.5109888, -0.6197228, -0.67347896, -0.37812...              40   \n",
       "2  [-0.15577064, -0.1337795, -0.07391469, -0.0665...              40   \n",
       "3  [0.21624629, -0.3036, 0.019242255, -0.42760566...              40   \n",
       "4  [0.57787853, 0.5705481, 0.54275376, 0.66553766...              40   \n",
       "\n",
       "   signal_length_in_sec  \n",
       "0                     2  \n",
       "1                     2  \n",
       "2                     2  \n",
       "3                     2  \n",
       "4                     2  "
      ]
     },
     "execution_count": 107,
     "metadata": {},
     "output_type": "execute_result"
    }
   ],
   "source": [
    "df_sequential = pd.read_csv('subsequences_raw.csv')\n",
    "df_sequential_new_user = pd.read_csv('subsequences_test_raw.csv')\n",
    "df_sequential.head()\n",
    "\n"
   ]
  },
  {
   "cell_type": "code",
   "execution_count": 108,
   "metadata": {},
   "outputs": [
    {
     "name": "stdout",
     "output_type": "stream",
     "text": [
      "(30993, 40, 4)\n",
      "(312, 40, 4)\n"
     ]
    }
   ],
   "source": [
    "def prepare_data(df_sequential):\n",
    "    \"\"\"\n",
    "    Prepares the sequential data for further processing.\n",
    "\n",
    "    Args:\n",
    "        df_sequential (pd.DataFrame): DataFrame containing the sequential data.\n",
    "\n",
    "    Returns:\n",
    "        tuple: Processed feature data (X_data) and labels (y_sequential)\n",
    "    \"\"\"\n",
    "    # Drop unnecessary columns and separate features and labels\n",
    "    X_sequential = df_sequential.drop(columns=['new_user_id', 'num_of_samples', 'signal_length_in_sec'])\n",
    "    y_sequential = df_sequential['new_user_id']\n",
    "\n",
    "    # # Extract the number of samples\n",
    "    # num_of_samples = df_sequential['num_of_samples'].iloc[0]\n",
    "\n",
    "    # Convert the lists in 'total_acc', 'x_acc', 'y_acc', 'z_acc' columns to numpy arrays\n",
    "    def convert_to_array(series: pd.Series):\n",
    "        return np.array(series.apply(eval).to_list())\n",
    "\n",
    "    X_total_acc = convert_to_array(X_sequential['total_acc'])\n",
    "    X_x_acc = convert_to_array(X_sequential['x_acc'])\n",
    "    X_y_acc = convert_to_array(X_sequential['y_acc'])\n",
    "    X_z_acc = convert_to_array(X_sequential['z_acc'])\n",
    "\n",
    "    # Stack the accelerometer data along the last dimension\n",
    "    X_data = np.stack((X_total_acc, X_x_acc, X_y_acc, X_z_acc), axis=-1)\n",
    "\n",
    "    # Ensure the shape is correct (samples, timesteps, features)\n",
    "    print(X_data.shape)  # Expected: (num_samples, num_of_samples, 4)\n",
    "\n",
    "    return X_data, y_sequential\n",
    "\n",
    "\n",
    "X_data, y_sequential = prepare_data(df_sequential)\n",
    "X_data_new_user, y_sequential_new_user = prepare_data(df_sequential_new_user)\n",
    "\n",
    "# Split the data\n",
    "X_train_sequential, X_test_sequential, y_train_sequential, y_test_sequential = train_test_split(X_data, y_sequential, test_size=0.2, random_state=42)\n",
    "X_train_new_user, X_test_new_user, y_train_new_user, y_test_new_user = train_test_split(X_data_new_user, y_sequential_new_user, test_size=0.2, random_state=42)"
   ]
  },
  {
   "cell_type": "code",
   "execution_count": 110,
   "metadata": {},
   "outputs": [
    {
     "name": "stdout",
     "output_type": "stream",
     "text": [
      "190\n"
     ]
    }
   ],
   "source": [
    "num_classes = y_sequential.nunique()\n",
    "\n",
    "print(num_classes)"
   ]
  },
  {
   "cell_type": "code",
   "execution_count": 113,
   "metadata": {},
   "outputs": [],
   "source": [
    "# Define the model creation function\n",
    "def create_lstm_model(input_shape, num_classes=10):\n",
    "    \"\"\"Creates a Keras LSTM model for accelerometer data classification.\n",
    "\n",
    "    Args:\n",
    "        input_shape (tuple): Shape of the input data (time_steps, features).\n",
    "        num_classes (int): Number of classes for classification (default: 10).\n",
    "\n",
    "    Returns:\n",
    "        keras.Model: The compiled LSTM model.\n",
    "    \"\"\"\n",
    "    model = keras.Sequential([\n",
    "        keras.layers.InputLayer(shape=input_shape, name=\"input_acceleration\"),\n",
    "\n",
    "        # LSTM layers\n",
    "        keras.layers.LSTM(64, return_sequences=True, name=\"lstm_1\"), \n",
    "        keras.layers.LSTM(32, name=\"lstm_2\"), \n",
    "\n",
    "        # Dense layers for classification\n",
    "        keras.layers.Dense(64, activation=\"relu\", name=\"dense_1\"),\n",
    "        keras.layers.Dropout(0.5, name='dropout'),  # Add dropout for regularization\n",
    "        keras.layers.Dense(num_classes, activation=\"softmax\", name=\"output_class_base\"),\n",
    "    ])\n",
    "\n",
    "    model.compile(\n",
    "        optimizer=\"adam\",\n",
    "        loss=\"sparse_categorical_crossentropy\",  # Assuming integer labels (new_user_id)\n",
    "        metrics=[\"accuracy\"]\n",
    "        \n",
    "    )\n",
    "    return model"
   ]
  },
  {
   "cell_type": "code",
   "execution_count": 134,
   "metadata": {},
   "outputs": [
    {
     "data": {
      "text/html": [
       "<pre style=\"white-space:pre;overflow-x:auto;line-height:normal;font-family:Menlo,'DejaVu Sans Mono',consolas,'Courier New',monospace\"><span style=\"font-weight: bold\">Model: \"sequential_17\"</span>\n",
       "</pre>\n"
      ],
      "text/plain": [
       "\u001b[1mModel: \"sequential_17\"\u001b[0m\n"
      ]
     },
     "metadata": {},
     "output_type": "display_data"
    },
    {
     "data": {
      "text/html": [
       "<pre style=\"white-space:pre;overflow-x:auto;line-height:normal;font-family:Menlo,'DejaVu Sans Mono',consolas,'Courier New',monospace\">┏━━━━━━━━━━━━━━━━━━━━━━━━━━━━━━━━━┳━━━━━━━━━━━━━━━━━━━━━━━━━━━┳━━━━━━━━━━━━┓\n",
       "┃<span style=\"font-weight: bold\"> Layer (type)                    </span>┃<span style=\"font-weight: bold\"> Output Shape              </span>┃<span style=\"font-weight: bold\">    Param # </span>┃\n",
       "┡━━━━━━━━━━━━━━━━━━━━━━━━━━━━━━━━━╇━━━━━━━━━━━━━━━━━━━━━━━━━━━╇━━━━━━━━━━━━┩\n",
       "│ lstm_26 (<span style=\"color: #0087ff; text-decoration-color: #0087ff\">LSTM</span>)                  │ (<span style=\"color: #00d7ff; text-decoration-color: #00d7ff\">None</span>, <span style=\"color: #00af00; text-decoration-color: #00af00\">40</span>, <span style=\"color: #00af00; text-decoration-color: #00af00\">64</span>)            │     <span style=\"color: #00af00; text-decoration-color: #00af00\">17,664</span> │\n",
       "├─────────────────────────────────┼───────────────────────────┼────────────┤\n",
       "│ lstm_27 (<span style=\"color: #0087ff; text-decoration-color: #0087ff\">LSTM</span>)                  │ (<span style=\"color: #00d7ff; text-decoration-color: #00d7ff\">None</span>, <span style=\"color: #00af00; text-decoration-color: #00af00\">32</span>)                │     <span style=\"color: #00af00; text-decoration-color: #00af00\">12,416</span> │\n",
       "├─────────────────────────────────┼───────────────────────────┼────────────┤\n",
       "│ dense_30 (<span style=\"color: #0087ff; text-decoration-color: #0087ff\">Dense</span>)                │ (<span style=\"color: #00d7ff; text-decoration-color: #00d7ff\">None</span>, <span style=\"color: #00af00; text-decoration-color: #00af00\">64</span>)                │      <span style=\"color: #00af00; text-decoration-color: #00af00\">2,112</span> │\n",
       "├─────────────────────────────────┼───────────────────────────┼────────────┤\n",
       "│ dropout_15 (<span style=\"color: #0087ff; text-decoration-color: #0087ff\">Dropout</span>)            │ (<span style=\"color: #00d7ff; text-decoration-color: #00d7ff\">None</span>, <span style=\"color: #00af00; text-decoration-color: #00af00\">64</span>)                │          <span style=\"color: #00af00; text-decoration-color: #00af00\">0</span> │\n",
       "├─────────────────────────────────┼───────────────────────────┼────────────┤\n",
       "│ dense_31 (<span style=\"color: #0087ff; text-decoration-color: #0087ff\">Dense</span>)                │ (<span style=\"color: #00d7ff; text-decoration-color: #00d7ff\">None</span>, <span style=\"color: #00af00; text-decoration-color: #00af00\">192</span>)               │     <span style=\"color: #00af00; text-decoration-color: #00af00\">12,480</span> │\n",
       "└─────────────────────────────────┴───────────────────────────┴────────────┘\n",
       "</pre>\n"
      ],
      "text/plain": [
       "┏━━━━━━━━━━━━━━━━━━━━━━━━━━━━━━━━━┳━━━━━━━━━━━━━━━━━━━━━━━━━━━┳━━━━━━━━━━━━┓\n",
       "┃\u001b[1m \u001b[0m\u001b[1mLayer (type)                   \u001b[0m\u001b[1m \u001b[0m┃\u001b[1m \u001b[0m\u001b[1mOutput Shape             \u001b[0m\u001b[1m \u001b[0m┃\u001b[1m \u001b[0m\u001b[1m   Param #\u001b[0m\u001b[1m \u001b[0m┃\n",
       "┡━━━━━━━━━━━━━━━━━━━━━━━━━━━━━━━━━╇━━━━━━━━━━━━━━━━━━━━━━━━━━━╇━━━━━━━━━━━━┩\n",
       "│ lstm_26 (\u001b[38;5;33mLSTM\u001b[0m)                  │ (\u001b[38;5;45mNone\u001b[0m, \u001b[38;5;34m40\u001b[0m, \u001b[38;5;34m64\u001b[0m)            │     \u001b[38;5;34m17,664\u001b[0m │\n",
       "├─────────────────────────────────┼───────────────────────────┼────────────┤\n",
       "│ lstm_27 (\u001b[38;5;33mLSTM\u001b[0m)                  │ (\u001b[38;5;45mNone\u001b[0m, \u001b[38;5;34m32\u001b[0m)                │     \u001b[38;5;34m12,416\u001b[0m │\n",
       "├─────────────────────────────────┼───────────────────────────┼────────────┤\n",
       "│ dense_30 (\u001b[38;5;33mDense\u001b[0m)                │ (\u001b[38;5;45mNone\u001b[0m, \u001b[38;5;34m64\u001b[0m)                │      \u001b[38;5;34m2,112\u001b[0m │\n",
       "├─────────────────────────────────┼───────────────────────────┼────────────┤\n",
       "│ dropout_15 (\u001b[38;5;33mDropout\u001b[0m)            │ (\u001b[38;5;45mNone\u001b[0m, \u001b[38;5;34m64\u001b[0m)                │          \u001b[38;5;34m0\u001b[0m │\n",
       "├─────────────────────────────────┼───────────────────────────┼────────────┤\n",
       "│ dense_31 (\u001b[38;5;33mDense\u001b[0m)                │ (\u001b[38;5;45mNone\u001b[0m, \u001b[38;5;34m192\u001b[0m)               │     \u001b[38;5;34m12,480\u001b[0m │\n",
       "└─────────────────────────────────┴───────────────────────────┴────────────┘\n"
      ]
     },
     "metadata": {},
     "output_type": "display_data"
    },
    {
     "data": {
      "text/html": [
       "<pre style=\"white-space:pre;overflow-x:auto;line-height:normal;font-family:Menlo,'DejaVu Sans Mono',consolas,'Courier New',monospace\"><span style=\"font-weight: bold\"> Total params: </span><span style=\"color: #00af00; text-decoration-color: #00af00\">44,672</span> (174.50 KB)\n",
       "</pre>\n"
      ],
      "text/plain": [
       "\u001b[1m Total params: \u001b[0m\u001b[38;5;34m44,672\u001b[0m (174.50 KB)\n"
      ]
     },
     "metadata": {},
     "output_type": "display_data"
    },
    {
     "data": {
      "text/html": [
       "<pre style=\"white-space:pre;overflow-x:auto;line-height:normal;font-family:Menlo,'DejaVu Sans Mono',consolas,'Courier New',monospace\"><span style=\"font-weight: bold\"> Trainable params: </span><span style=\"color: #00af00; text-decoration-color: #00af00\">44,672</span> (174.50 KB)\n",
       "</pre>\n"
      ],
      "text/plain": [
       "\u001b[1m Trainable params: \u001b[0m\u001b[38;5;34m44,672\u001b[0m (174.50 KB)\n"
      ]
     },
     "metadata": {},
     "output_type": "display_data"
    },
    {
     "data": {
      "text/html": [
       "<pre style=\"white-space:pre;overflow-x:auto;line-height:normal;font-family:Menlo,'DejaVu Sans Mono',consolas,'Courier New',monospace\"><span style=\"font-weight: bold\"> Non-trainable params: </span><span style=\"color: #00af00; text-decoration-color: #00af00\">0</span> (0.00 B)\n",
       "</pre>\n"
      ],
      "text/plain": [
       "\u001b[1m Non-trainable params: \u001b[0m\u001b[38;5;34m0\u001b[0m (0.00 B)\n"
      ]
     },
     "metadata": {},
     "output_type": "display_data"
    }
   ],
   "source": [
    "# no of different users\n",
    "num_classes = max(y_sequential)+1\n",
    "\n",
    "input_shape = (X_train_sequential.shape[1], X_train_sequential.shape[2])  # timesteps, features\n",
    "model = create_lstm_model(input_shape, num_classes=num_classes)\n",
    "\n",
    "model.summary()"
   ]
  },
  {
   "cell_type": "code",
   "execution_count": 115,
   "metadata": {},
   "outputs": [],
   "source": [
    "# callbacks\n",
    "early_stopping = keras.callbacks.EarlyStopping(monitor='val_accuracy', patience=5, restore_best_weights=True)\n",
    "reduce_lr = keras.callbacks.ReduceLROnPlateau(monitor='val_loss', factor=0.2, patience=3, min_lr=0.00001)\n",
    "tensorboard = keras.callbacks.TensorBoard(log_dir='./logs', histogram_freq=1)"
   ]
  },
  {
   "cell_type": "code",
   "execution_count": 116,
   "metadata": {},
   "outputs": [
    {
     "name": "stdout",
     "output_type": "stream",
     "text": [
      "Epoch 1/100\n",
      "\u001b[1m388/388\u001b[0m \u001b[32m━━━━━━━━━━━━━━━━━━━━\u001b[0m\u001b[37m\u001b[0m \u001b[1m9s\u001b[0m 18ms/step - accuracy: 0.0928 - loss: 4.3867 - val_accuracy: 0.3541 - val_loss: 2.5799 - learning_rate: 0.0010\n",
      "Epoch 2/100\n",
      "\u001b[1m388/388\u001b[0m \u001b[32m━━━━━━━━━━━━━━━━━━━━\u001b[0m\u001b[37m\u001b[0m \u001b[1m7s\u001b[0m 17ms/step - accuracy: 0.2789 - loss: 2.6868 - val_accuracy: 0.4823 - val_loss: 1.8432 - learning_rate: 0.0010\n",
      "Epoch 3/100\n",
      "\u001b[1m388/388\u001b[0m \u001b[32m━━━━━━━━━━━━━━━━━━━━\u001b[0m\u001b[37m\u001b[0m \u001b[1m7s\u001b[0m 17ms/step - accuracy: 0.4279 - loss: 2.0462 - val_accuracy: 0.5940 - val_loss: 1.4247 - learning_rate: 0.0010\n",
      "Epoch 4/100\n",
      "\u001b[1m388/388\u001b[0m \u001b[32m━━━━━━━━━━━━━━━━━━━━\u001b[0m\u001b[37m\u001b[0m \u001b[1m7s\u001b[0m 17ms/step - accuracy: 0.5298 - loss: 1.6929 - val_accuracy: 0.6798 - val_loss: 1.1570 - learning_rate: 0.0010\n",
      "Epoch 5/100\n",
      "\u001b[1m388/388\u001b[0m \u001b[32m━━━━━━━━━━━━━━━━━━━━\u001b[0m\u001b[37m\u001b[0m \u001b[1m7s\u001b[0m 17ms/step - accuracy: 0.6026 - loss: 1.4128 - val_accuracy: 0.7133 - val_loss: 0.9966 - learning_rate: 0.0010\n",
      "Epoch 6/100\n",
      "\u001b[1m388/388\u001b[0m \u001b[32m━━━━━━━━━━━━━━━━━━━━\u001b[0m\u001b[37m\u001b[0m \u001b[1m7s\u001b[0m 18ms/step - accuracy: 0.6701 - loss: 1.2114 - val_accuracy: 0.7843 - val_loss: 0.8247 - learning_rate: 0.0010\n",
      "Epoch 7/100\n",
      "\u001b[1m388/388\u001b[0m \u001b[32m━━━━━━━━━━━━━━━━━━━━\u001b[0m\u001b[37m\u001b[0m \u001b[1m7s\u001b[0m 18ms/step - accuracy: 0.7101 - loss: 1.0608 - val_accuracy: 0.8088 - val_loss: 0.7405 - learning_rate: 0.0010\n",
      "Epoch 8/100\n",
      "\u001b[1m388/388\u001b[0m \u001b[32m━━━━━━━━━━━━━━━━━━━━\u001b[0m\u001b[37m\u001b[0m \u001b[1m7s\u001b[0m 17ms/step - accuracy: 0.7386 - loss: 0.9733 - val_accuracy: 0.8361 - val_loss: 0.6422 - learning_rate: 0.0010\n",
      "Epoch 9/100\n",
      "\u001b[1m388/388\u001b[0m \u001b[32m━━━━━━━━━━━━━━━━━━━━\u001b[0m\u001b[37m\u001b[0m \u001b[1m7s\u001b[0m 17ms/step - accuracy: 0.7677 - loss: 0.8595 - val_accuracy: 0.8146 - val_loss: 0.6870 - learning_rate: 0.0010\n",
      "Epoch 10/100\n",
      "\u001b[1m388/388\u001b[0m \u001b[32m━━━━━━━━━━━━━━━━━━━━\u001b[0m\u001b[37m\u001b[0m \u001b[1m7s\u001b[0m 17ms/step - accuracy: 0.7923 - loss: 0.7907 - val_accuracy: 0.8534 - val_loss: 0.5645 - learning_rate: 0.0010\n",
      "Epoch 11/100\n",
      "\u001b[1m388/388\u001b[0m \u001b[32m━━━━━━━━━━━━━━━━━━━━\u001b[0m\u001b[37m\u001b[0m \u001b[1m7s\u001b[0m 17ms/step - accuracy: 0.8073 - loss: 0.7253 - val_accuracy: 0.8600 - val_loss: 0.5422 - learning_rate: 0.0010\n",
      "Epoch 12/100\n",
      "\u001b[1m388/388\u001b[0m \u001b[32m━━━━━━━━━━━━━━━━━━━━\u001b[0m\u001b[37m\u001b[0m \u001b[1m7s\u001b[0m 17ms/step - accuracy: 0.8229 - loss: 0.6770 - val_accuracy: 0.8768 - val_loss: 0.4863 - learning_rate: 0.0010\n",
      "Epoch 13/100\n",
      "\u001b[1m388/388\u001b[0m \u001b[32m━━━━━━━━━━━━━━━━━━━━\u001b[0m\u001b[37m\u001b[0m \u001b[1m7s\u001b[0m 18ms/step - accuracy: 0.8320 - loss: 0.6371 - val_accuracy: 0.8830 - val_loss: 0.4460 - learning_rate: 0.0010\n",
      "Epoch 14/100\n",
      "\u001b[1m388/388\u001b[0m \u001b[32m━━━━━━━━━━━━━━━━━━━━\u001b[0m\u001b[37m\u001b[0m \u001b[1m7s\u001b[0m 18ms/step - accuracy: 0.8363 - loss: 0.6032 - val_accuracy: 0.8924 - val_loss: 0.4219 - learning_rate: 0.0010\n",
      "Epoch 15/100\n",
      "\u001b[1m388/388\u001b[0m \u001b[32m━━━━━━━━━━━━━━━━━━━━\u001b[0m\u001b[37m\u001b[0m \u001b[1m7s\u001b[0m 17ms/step - accuracy: 0.8533 - loss: 0.5628 - val_accuracy: 0.8963 - val_loss: 0.4235 - learning_rate: 0.0010\n",
      "Epoch 16/100\n",
      "\u001b[1m388/388\u001b[0m \u001b[32m━━━━━━━━━━━━━━━━━━━━\u001b[0m\u001b[37m\u001b[0m \u001b[1m7s\u001b[0m 17ms/step - accuracy: 0.8570 - loss: 0.5440 - val_accuracy: 0.8977 - val_loss: 0.4033 - learning_rate: 0.0010\n",
      "Epoch 17/100\n",
      "\u001b[1m388/388\u001b[0m \u001b[32m━━━━━━━━━━━━━━━━━━━━\u001b[0m\u001b[37m\u001b[0m \u001b[1m7s\u001b[0m 19ms/step - accuracy: 0.8710 - loss: 0.4955 - val_accuracy: 0.9019 - val_loss: 0.3902 - learning_rate: 0.0010\n",
      "Epoch 18/100\n",
      "\u001b[1m388/388\u001b[0m \u001b[32m━━━━━━━━━━━━━━━━━━━━\u001b[0m\u001b[37m\u001b[0m \u001b[1m8s\u001b[0m 20ms/step - accuracy: 0.8805 - loss: 0.4603 - val_accuracy: 0.9074 - val_loss: 0.3668 - learning_rate: 0.0010\n",
      "Epoch 19/100\n",
      "\u001b[1m388/388\u001b[0m \u001b[32m━━━━━━━━━━━━━━━━━━━━\u001b[0m\u001b[37m\u001b[0m \u001b[1m7s\u001b[0m 19ms/step - accuracy: 0.8870 - loss: 0.4288 - val_accuracy: 0.9082 - val_loss: 0.3699 - learning_rate: 0.0010\n",
      "Epoch 20/100\n",
      "\u001b[1m388/388\u001b[0m \u001b[32m━━━━━━━━━━━━━━━━━━━━\u001b[0m\u001b[37m\u001b[0m \u001b[1m7s\u001b[0m 19ms/step - accuracy: 0.8862 - loss: 0.4245 - val_accuracy: 0.9161 - val_loss: 0.3495 - learning_rate: 0.0010\n",
      "Epoch 21/100\n",
      "\u001b[1m388/388\u001b[0m \u001b[32m━━━━━━━━━━━━━━━━━━━━\u001b[0m\u001b[37m\u001b[0m \u001b[1m7s\u001b[0m 18ms/step - accuracy: 0.8928 - loss: 0.4050 - val_accuracy: 0.9164 - val_loss: 0.3430 - learning_rate: 0.0010\n",
      "Epoch 22/100\n",
      "\u001b[1m388/388\u001b[0m \u001b[32m━━━━━━━━━━━━━━━━━━━━\u001b[0m\u001b[37m\u001b[0m \u001b[1m7s\u001b[0m 19ms/step - accuracy: 0.8947 - loss: 0.3978 - val_accuracy: 0.9148 - val_loss: 0.3522 - learning_rate: 0.0010\n",
      "Epoch 23/100\n",
      "\u001b[1m388/388\u001b[0m \u001b[32m━━━━━━━━━━━━━━━━━━━━\u001b[0m\u001b[37m\u001b[0m \u001b[1m7s\u001b[0m 18ms/step - accuracy: 0.8960 - loss: 0.3869 - val_accuracy: 0.9256 - val_loss: 0.3207 - learning_rate: 0.0010\n",
      "Epoch 24/100\n",
      "\u001b[1m388/388\u001b[0m \u001b[32m━━━━━━━━━━━━━━━━━━━━\u001b[0m\u001b[37m\u001b[0m \u001b[1m7s\u001b[0m 18ms/step - accuracy: 0.9035 - loss: 0.3560 - val_accuracy: 0.9177 - val_loss: 0.3633 - learning_rate: 0.0010\n",
      "Epoch 25/100\n",
      "\u001b[1m388/388\u001b[0m \u001b[32m━━━━━━━━━━━━━━━━━━━━\u001b[0m\u001b[37m\u001b[0m \u001b[1m7s\u001b[0m 18ms/step - accuracy: 0.9082 - loss: 0.3536 - val_accuracy: 0.9261 - val_loss: 0.3277 - learning_rate: 0.0010\n",
      "Epoch 26/100\n",
      "\u001b[1m388/388\u001b[0m \u001b[32m━━━━━━━━━━━━━━━━━━━━\u001b[0m\u001b[37m\u001b[0m \u001b[1m7s\u001b[0m 18ms/step - accuracy: 0.9117 - loss: 0.3363 - val_accuracy: 0.9313 - val_loss: 0.2931 - learning_rate: 0.0010\n",
      "Epoch 27/100\n",
      "\u001b[1m388/388\u001b[0m \u001b[32m━━━━━━━━━━━━━━━━━━━━\u001b[0m\u001b[37m\u001b[0m \u001b[1m7s\u001b[0m 18ms/step - accuracy: 0.9179 - loss: 0.3035 - val_accuracy: 0.9300 - val_loss: 0.2984 - learning_rate: 0.0010\n",
      "Epoch 28/100\n",
      "\u001b[1m388/388\u001b[0m \u001b[32m━━━━━━━━━━━━━━━━━━━━\u001b[0m\u001b[37m\u001b[0m \u001b[1m7s\u001b[0m 18ms/step - accuracy: 0.9119 - loss: 0.3267 - val_accuracy: 0.9355 - val_loss: 0.2781 - learning_rate: 0.0010\n",
      "Epoch 29/100\n",
      "\u001b[1m388/388\u001b[0m \u001b[32m━━━━━━━━━━━━━━━━━━━━\u001b[0m\u001b[37m\u001b[0m \u001b[1m7s\u001b[0m 17ms/step - accuracy: 0.9229 - loss: 0.2886 - val_accuracy: 0.9377 - val_loss: 0.2852 - learning_rate: 0.0010\n",
      "Epoch 30/100\n",
      "\u001b[1m388/388\u001b[0m \u001b[32m━━━━━━━━━━━━━━━━━━━━\u001b[0m\u001b[37m\u001b[0m \u001b[1m7s\u001b[0m 18ms/step - accuracy: 0.9232 - loss: 0.2926 - val_accuracy: 0.9342 - val_loss: 0.2909 - learning_rate: 0.0010\n",
      "Epoch 31/100\n",
      "\u001b[1m388/388\u001b[0m \u001b[32m━━━━━━━━━━━━━━━━━━━━\u001b[0m\u001b[37m\u001b[0m \u001b[1m7s\u001b[0m 18ms/step - accuracy: 0.9229 - loss: 0.2811 - val_accuracy: 0.9389 - val_loss: 0.2698 - learning_rate: 0.0010\n",
      "Epoch 32/100\n",
      "\u001b[1m388/388\u001b[0m \u001b[32m━━━━━━━━━━━━━━━━━━━━\u001b[0m\u001b[37m\u001b[0m \u001b[1m7s\u001b[0m 18ms/step - accuracy: 0.9249 - loss: 0.2747 - val_accuracy: 0.9347 - val_loss: 0.2897 - learning_rate: 0.0010\n",
      "Epoch 33/100\n",
      "\u001b[1m388/388\u001b[0m \u001b[32m━━━━━━━━━━━━━━━━━━━━\u001b[0m\u001b[37m\u001b[0m \u001b[1m7s\u001b[0m 18ms/step - accuracy: 0.9242 - loss: 0.2754 - val_accuracy: 0.9429 - val_loss: 0.2766 - learning_rate: 0.0010\n",
      "Epoch 34/100\n",
      "\u001b[1m388/388\u001b[0m \u001b[32m━━━━━━━━━━━━━━━━━━━━\u001b[0m\u001b[37m\u001b[0m \u001b[1m7s\u001b[0m 18ms/step - accuracy: 0.9310 - loss: 0.2497 - val_accuracy: 0.9461 - val_loss: 0.2564 - learning_rate: 0.0010\n",
      "Epoch 35/100\n",
      "\u001b[1m388/388\u001b[0m \u001b[32m━━━━━━━━━━━━━━━━━━━━\u001b[0m\u001b[37m\u001b[0m \u001b[1m7s\u001b[0m 18ms/step - accuracy: 0.9379 - loss: 0.2332 - val_accuracy: 0.9385 - val_loss: 0.2799 - learning_rate: 0.0010\n",
      "Epoch 36/100\n",
      "\u001b[1m388/388\u001b[0m \u001b[32m━━━━━━━━━━━━━━━━━━━━\u001b[0m\u001b[37m\u001b[0m \u001b[1m7s\u001b[0m 18ms/step - accuracy: 0.9401 - loss: 0.2219 - val_accuracy: 0.9382 - val_loss: 0.2918 - learning_rate: 0.0010\n",
      "Epoch 37/100\n",
      "\u001b[1m388/388\u001b[0m \u001b[32m━━━━━━━━━━━━━━━━━━━━\u001b[0m\u001b[37m\u001b[0m \u001b[1m7s\u001b[0m 18ms/step - accuracy: 0.9322 - loss: 0.2563 - val_accuracy: 0.9476 - val_loss: 0.2544 - learning_rate: 0.0010\n",
      "Epoch 38/100\n",
      "\u001b[1m388/388\u001b[0m \u001b[32m━━━━━━━━━━━━━━━━━━━━\u001b[0m\u001b[37m\u001b[0m \u001b[1m7s\u001b[0m 18ms/step - accuracy: 0.9374 - loss: 0.2294 - val_accuracy: 0.9427 - val_loss: 0.2720 - learning_rate: 0.0010\n",
      "Epoch 39/100\n",
      "\u001b[1m388/388\u001b[0m \u001b[32m━━━━━━━━━━━━━━━━━━━━\u001b[0m\u001b[37m\u001b[0m \u001b[1m7s\u001b[0m 18ms/step - accuracy: 0.9387 - loss: 0.2236 - val_accuracy: 0.9458 - val_loss: 0.2521 - learning_rate: 0.0010\n",
      "Epoch 40/100\n",
      "\u001b[1m388/388\u001b[0m \u001b[32m━━━━━━━━━━━━━━━━━━━━\u001b[0m\u001b[37m\u001b[0m \u001b[1m7s\u001b[0m 18ms/step - accuracy: 0.9387 - loss: 0.2194 - val_accuracy: 0.9503 - val_loss: 0.2572 - learning_rate: 0.0010\n",
      "Epoch 41/100\n",
      "\u001b[1m388/388\u001b[0m \u001b[32m━━━━━━━━━━━━━━━━━━━━\u001b[0m\u001b[37m\u001b[0m \u001b[1m7s\u001b[0m 18ms/step - accuracy: 0.9369 - loss: 0.2327 - val_accuracy: 0.9506 - val_loss: 0.2575 - learning_rate: 0.0010\n",
      "Epoch 42/100\n",
      "\u001b[1m388/388\u001b[0m \u001b[32m━━━━━━━━━━━━━━━━━━━━\u001b[0m\u001b[37m\u001b[0m \u001b[1m7s\u001b[0m 18ms/step - accuracy: 0.9483 - loss: 0.1886 - val_accuracy: 0.9293 - val_loss: 0.3099 - learning_rate: 0.0010\n",
      "Epoch 43/100\n",
      "\u001b[1m388/388\u001b[0m \u001b[32m━━━━━━━━━━━━━━━━━━━━\u001b[0m\u001b[37m\u001b[0m \u001b[1m7s\u001b[0m 17ms/step - accuracy: 0.9474 - loss: 0.1912 - val_accuracy: 0.9568 - val_loss: 0.2367 - learning_rate: 2.0000e-04\n",
      "Epoch 44/100\n",
      "\u001b[1m388/388\u001b[0m \u001b[32m━━━━━━━━━━━━━━━━━━━━\u001b[0m\u001b[37m\u001b[0m \u001b[1m7s\u001b[0m 18ms/step - accuracy: 0.9572 - loss: 0.1522 - val_accuracy: 0.9584 - val_loss: 0.2312 - learning_rate: 2.0000e-04\n",
      "Epoch 45/100\n",
      "\u001b[1m388/388\u001b[0m \u001b[32m━━━━━━━━━━━━━━━━━━━━\u001b[0m\u001b[37m\u001b[0m \u001b[1m7s\u001b[0m 18ms/step - accuracy: 0.9607 - loss: 0.1423 - val_accuracy: 0.9598 - val_loss: 0.2289 - learning_rate: 2.0000e-04\n",
      "Epoch 46/100\n",
      "\u001b[1m388/388\u001b[0m \u001b[32m━━━━━━━━━━━━━━━━━━━━\u001b[0m\u001b[37m\u001b[0m \u001b[1m7s\u001b[0m 19ms/step - accuracy: 0.9593 - loss: 0.1493 - val_accuracy: 0.9598 - val_loss: 0.2303 - learning_rate: 2.0000e-04\n",
      "Epoch 47/100\n",
      "\u001b[1m388/388\u001b[0m \u001b[32m━━━━━━━━━━━━━━━━━━━━\u001b[0m\u001b[37m\u001b[0m \u001b[1m7s\u001b[0m 18ms/step - accuracy: 0.9647 - loss: 0.1336 - val_accuracy: 0.9603 - val_loss: 0.2305 - learning_rate: 2.0000e-04\n",
      "Epoch 48/100\n",
      "\u001b[1m388/388\u001b[0m \u001b[32m━━━━━━━━━━━━━━━━━━━━\u001b[0m\u001b[37m\u001b[0m \u001b[1m7s\u001b[0m 18ms/step - accuracy: 0.9633 - loss: 0.1327 - val_accuracy: 0.9590 - val_loss: 0.2306 - learning_rate: 2.0000e-04\n",
      "Epoch 49/100\n",
      "\u001b[1m388/388\u001b[0m \u001b[32m━━━━━━━━━━━━━━━━━━━━\u001b[0m\u001b[37m\u001b[0m \u001b[1m7s\u001b[0m 18ms/step - accuracy: 0.9647 - loss: 0.1225 - val_accuracy: 0.9603 - val_loss: 0.2303 - learning_rate: 4.0000e-05\n",
      "Epoch 50/100\n",
      "\u001b[1m388/388\u001b[0m \u001b[32m━━━━━━━━━━━━━━━━━━━━\u001b[0m\u001b[37m\u001b[0m \u001b[1m7s\u001b[0m 18ms/step - accuracy: 0.9647 - loss: 0.1281 - val_accuracy: 0.9608 - val_loss: 0.2290 - learning_rate: 4.0000e-05\n",
      "Epoch 51/100\n",
      "\u001b[1m388/388\u001b[0m \u001b[32m━━━━━━━━━━━━━━━━━━━━\u001b[0m\u001b[37m\u001b[0m \u001b[1m7s\u001b[0m 18ms/step - accuracy: 0.9661 - loss: 0.1218 - val_accuracy: 0.9610 - val_loss: 0.2311 - learning_rate: 4.0000e-05\n",
      "Epoch 52/100\n",
      "\u001b[1m388/388\u001b[0m \u001b[32m━━━━━━━━━━━━━━━━━━━━\u001b[0m\u001b[37m\u001b[0m \u001b[1m7s\u001b[0m 18ms/step - accuracy: 0.9657 - loss: 0.1242 - val_accuracy: 0.9606 - val_loss: 0.2313 - learning_rate: 1.0000e-05\n",
      "Epoch 53/100\n",
      "\u001b[1m388/388\u001b[0m \u001b[32m━━━━━━━━━━━━━━━━━━━━\u001b[0m\u001b[37m\u001b[0m \u001b[1m7s\u001b[0m 17ms/step - accuracy: 0.9670 - loss: 0.1169 - val_accuracy: 0.9608 - val_loss: 0.2312 - learning_rate: 1.0000e-05\n",
      "Epoch 54/100\n",
      "\u001b[1m388/388\u001b[0m \u001b[32m━━━━━━━━━━━━━━━━━━━━\u001b[0m\u001b[37m\u001b[0m \u001b[1m7s\u001b[0m 17ms/step - accuracy: 0.9649 - loss: 0.1263 - val_accuracy: 0.9608 - val_loss: 0.2313 - learning_rate: 1.0000e-05\n",
      "Epoch 55/100\n",
      "\u001b[1m388/388\u001b[0m \u001b[32m━━━━━━━━━━━━━━━━━━━━\u001b[0m\u001b[37m\u001b[0m \u001b[1m7s\u001b[0m 18ms/step - accuracy: 0.9650 - loss: 0.1263 - val_accuracy: 0.9611 - val_loss: 0.2306 - learning_rate: 1.0000e-05\n",
      "Epoch 56/100\n",
      "\u001b[1m388/388\u001b[0m \u001b[32m━━━━━━━━━━━━━━━━━━━━\u001b[0m\u001b[37m\u001b[0m \u001b[1m7s\u001b[0m 18ms/step - accuracy: 0.9692 - loss: 0.1196 - val_accuracy: 0.9610 - val_loss: 0.2308 - learning_rate: 1.0000e-05\n",
      "Epoch 57/100\n",
      "\u001b[1m388/388\u001b[0m \u001b[32m━━━━━━━━━━━━━━━━━━━━\u001b[0m\u001b[37m\u001b[0m \u001b[1m7s\u001b[0m 18ms/step - accuracy: 0.9671 - loss: 0.1183 - val_accuracy: 0.9603 - val_loss: 0.2302 - learning_rate: 1.0000e-05\n",
      "Epoch 58/100\n",
      "\u001b[1m388/388\u001b[0m \u001b[32m━━━━━━━━━━━━━━━━━━━━\u001b[0m\u001b[37m\u001b[0m \u001b[1m7s\u001b[0m 18ms/step - accuracy: 0.9671 - loss: 0.1237 - val_accuracy: 0.9606 - val_loss: 0.2299 - learning_rate: 1.0000e-05\n",
      "Epoch 59/100\n",
      "\u001b[1m388/388\u001b[0m \u001b[32m━━━━━━━━━━━━━━━━━━━━\u001b[0m\u001b[37m\u001b[0m \u001b[1m7s\u001b[0m 18ms/step - accuracy: 0.9679 - loss: 0.1165 - val_accuracy: 0.9606 - val_loss: 0.2305 - learning_rate: 1.0000e-05\n",
      "Epoch 60/100\n",
      "\u001b[1m388/388\u001b[0m \u001b[32m━━━━━━━━━━━━━━━━━━━━\u001b[0m\u001b[37m\u001b[0m \u001b[1m7s\u001b[0m 18ms/step - accuracy: 0.9685 - loss: 0.1188 - val_accuracy: 0.9608 - val_loss: 0.2306 - learning_rate: 1.0000e-05\n"
     ]
    }
   ],
   "source": [
    "\n",
    "# Train the model\n",
    "history = model.fit(\n",
    "    X_train_sequential,\n",
    "    y_train_sequential,\n",
    "    epochs=100,  # Adjust the number of epochs as needed\n",
    "    batch_size=64,  # Adjust batch size as needed\n",
    "    validation_data=(X_test_sequential, y_test_sequential),\n",
    "    callbacks=[early_stopping, reduce_lr, tensorboard]\n",
    ")"
   ]
  },
  {
   "cell_type": "code",
   "execution_count": 117,
   "metadata": {},
   "outputs": [
    {
     "data": {
      "image/png": "[encoded data removed]",
      "text/plain": [
       "<Figure size 1008x504 with 1 Axes>"
      ]
     },
     "metadata": {
      "needs_background": "light"
     },
     "output_type": "display_data"
    }
   ],
   "source": [
    "plt.figure(figsize=(14, 7))\n",
    "plt.plot(history.history['accuracy'])\n",
    "plt.plot(history.history['val_accuracy'])\n",
    "plt.title('model accuracy')\n",
    "plt.ylabel('accuracy')\n",
    "plt.xlabel('epoch')\n",
    "plt.legend(['train', 'test'], loc='upper left')\n",
    "plt.show()\n"
   ]
  },
  {
   "cell_type": "code",
   "execution_count": 118,
   "metadata": {},
   "outputs": [],
   "source": [
    "# save model weights to .h5 file\n",
    "model.save_weights('gait_cycle_lstm_2sec_.weights.h5')\n"
   ]
  },
  {
   "cell_type": "code",
   "execution_count": 119,
   "metadata": {},
   "outputs": [
    {
     "name": "stdout",
     "output_type": "stream",
     "text": [
      "(24794, 40, 4)\n"
     ]
    }
   ],
   "source": [
    "num_samples = X_train_sequential.shape[0]\n",
    "num_timesteps = X_train_sequential.shape[1]\n",
    "num_features = X_train_sequential.shape[2]\n",
    "\n",
    "print(X_train_sequential.shape)"
   ]
  },
  {
   "cell_type": "code",
   "execution_count": 148,
   "metadata": {},
   "outputs": [],
   "source": [
    "base_model = create_lstm_model(input_shape=(num_timesteps, num_features), num_classes=num_classes)  # Your original num_classes\n",
    "base_model.load_weights(\"gait_cycle_lstm_2sec_.weights.h5\")\n",
    "\n",
    "# Freeze the LSTM and Dense layers\n",
    "for layer in base_model.layers: #[:-1]:  \n",
    "    layer.trainable = False\n",
    "\n",
    "# Create a new classification head\n",
    "new_head = keras.Sequential([\n",
    "    keras.layers.Dense(64, activation=\"relu\", name=\"dense_new\"),\n",
    "    keras.layers.Dropout(0.5, name=\"dropout_new\"),\n",
    "    keras.layers.Dense(num_classes+1, activation=\"softmax\", name=\"output_new\")  # Increased number of classes\n",
    "])\n",
    "\n",
    "new_user_model = keras.Sequential([\n",
    "    base_model,\n",
    "    new_head\n",
    "])\n",
    "\n",
    "new_user_model.compile(\n",
    "    optimizer=\"adam\",\n",
    "    loss=\"sparse_categorical_crossentropy\",\n",
    "    metrics=[\"accuracy\"]\n",
    ")"
   ]
  },
  {
   "cell_type": "code",
   "execution_count": 149,
   "metadata": {},
   "outputs": [
    {
     "data": {
      "text/html": [
       "<pre style=\"white-space:pre;overflow-x:auto;line-height:normal;font-family:Menlo,'DejaVu Sans Mono',consolas,'Courier New',monospace\"><span style=\"font-weight: bold\">Model: \"sequential_35\"</span>\n",
       "</pre>\n"
      ],
      "text/plain": [
       "\u001b[1mModel: \"sequential_35\"\u001b[0m\n"
      ]
     },
     "metadata": {},
     "output_type": "display_data"
    },
    {
     "data": {
      "text/html": [
       "<pre style=\"white-space:pre;overflow-x:auto;line-height:normal;font-family:Menlo,'DejaVu Sans Mono',consolas,'Courier New',monospace\">┏━━━━━━━━━━━━━━━━━━━━━━━━━━━━━━━━━┳━━━━━━━━━━━━━━━━━━━━━━━━━━━┳━━━━━━━━━━━━┓\n",
       "┃<span style=\"font-weight: bold\"> Layer (type)                    </span>┃<span style=\"font-weight: bold\"> Output Shape              </span>┃<span style=\"font-weight: bold\">    Param # </span>┃\n",
       "┡━━━━━━━━━━━━━━━━━━━━━━━━━━━━━━━━━╇━━━━━━━━━━━━━━━━━━━━━━━━━━━╇━━━━━━━━━━━━┩\n",
       "│ sequential_33 (<span style=\"color: #0087ff; text-decoration-color: #0087ff\">Sequential</span>)      │ ?                         │     <span style=\"color: #00af00; text-decoration-color: #00af00\">44,672</span> │\n",
       "├─────────────────────────────────┼───────────────────────────┼────────────┤\n",
       "│ sequential_34 (<span style=\"color: #0087ff; text-decoration-color: #0087ff\">Sequential</span>)      │ ?                         │          <span style=\"color: #00af00; text-decoration-color: #00af00\">0</span> │\n",
       "│                                 │                           │  (unbuilt) │\n",
       "└─────────────────────────────────┴───────────────────────────┴────────────┘\n",
       "</pre>\n"
      ],
      "text/plain": [
       "┏━━━━━━━━━━━━━━━━━━━━━━━━━━━━━━━━━┳━━━━━━━━━━━━━━━━━━━━━━━━━━━┳━━━━━━━━━━━━┓\n",
       "┃\u001b[1m \u001b[0m\u001b[1mLayer (type)                   \u001b[0m\u001b[1m \u001b[0m┃\u001b[1m \u001b[0m\u001b[1mOutput Shape             \u001b[0m\u001b[1m \u001b[0m┃\u001b[1m \u001b[0m\u001b[1m   Param #\u001b[0m\u001b[1m \u001b[0m┃\n",
       "┡━━━━━━━━━━━━━━━━━━━━━━━━━━━━━━━━━╇━━━━━━━━━━━━━━━━━━━━━━━━━━━╇━━━━━━━━━━━━┩\n",
       "│ sequential_33 (\u001b[38;5;33mSequential\u001b[0m)      │ ?                         │     \u001b[38;5;34m44,672\u001b[0m │\n",
       "├─────────────────────────────────┼───────────────────────────┼────────────┤\n",
       "│ sequential_34 (\u001b[38;5;33mSequential\u001b[0m)      │ ?                         │          \u001b[38;5;34m0\u001b[0m │\n",
       "│                                 │                           │  (unbuilt) │\n",
       "└─────────────────────────────────┴───────────────────────────┴────────────┘\n"
      ]
     },
     "metadata": {},
     "output_type": "display_data"
    },
    {
     "data": {
      "text/html": [
       "<pre style=\"white-space:pre;overflow-x:auto;line-height:normal;font-family:Menlo,'DejaVu Sans Mono',consolas,'Courier New',monospace\"><span style=\"font-weight: bold\"> Total params: </span><span style=\"color: #00af00; text-decoration-color: #00af00\">44,672</span> (174.50 KB)\n",
       "</pre>\n"
      ],
      "text/plain": [
       "\u001b[1m Total params: \u001b[0m\u001b[38;5;34m44,672\u001b[0m (174.50 KB)\n"
      ]
     },
     "metadata": {},
     "output_type": "display_data"
    },
    {
     "data": {
      "text/html": [
       "<pre style=\"white-space:pre;overflow-x:auto;line-height:normal;font-family:Menlo,'DejaVu Sans Mono',consolas,'Courier New',monospace\"><span style=\"font-weight: bold\"> Trainable params: </span><span style=\"color: #00af00; text-decoration-color: #00af00\">0</span> (0.00 B)\n",
       "</pre>\n"
      ],
      "text/plain": [
       "\u001b[1m Trainable params: \u001b[0m\u001b[38;5;34m0\u001b[0m (0.00 B)\n"
      ]
     },
     "metadata": {},
     "output_type": "display_data"
    },
    {
     "data": {
      "text/html": [
       "<pre style=\"white-space:pre;overflow-x:auto;line-height:normal;font-family:Menlo,'DejaVu Sans Mono',consolas,'Courier New',monospace\"><span style=\"font-weight: bold\"> Non-trainable params: </span><span style=\"color: #00af00; text-decoration-color: #00af00\">44,672</span> (174.50 KB)\n",
       "</pre>\n"
      ],
      "text/plain": [
       "\u001b[1m Non-trainable params: \u001b[0m\u001b[38;5;34m44,672\u001b[0m (174.50 KB)\n"
      ]
     },
     "metadata": {},
     "output_type": "display_data"
    }
   ],
   "source": [
    "new_user_model.summary()\n"
   ]
  },
  {
   "cell_type": "code",
   "execution_count": 150,
   "metadata": {},
   "outputs": [
    {
     "name": "stdout",
     "output_type": "stream",
     "text": [
      "Epoch 1/10\n",
      "\u001b[1m4/4\u001b[0m \u001b[32m━━━━━━━━━━━━━━━━━━━━\u001b[0m\u001b[37m\u001b[0m \u001b[1m2s\u001b[0m 93ms/step - accuracy: 0.0000e+00 - loss: 5.2698 - val_accuracy: 0.0317 - val_loss: 5.2366\n",
      "Epoch 2/10\n",
      "\u001b[1m4/4\u001b[0m \u001b[32m━━━━━━━━━━━━━━━━━━━━\u001b[0m\u001b[37m\u001b[0m \u001b[1m0s\u001b[0m 18ms/step - accuracy: 0.0313 - loss: 5.2339 - val_accuracy: 0.1587 - val_loss: 5.1939\n",
      "Epoch 3/10\n",
      "\u001b[1m4/4\u001b[0m \u001b[32m━━━━━━━━━━━━━━━━━━━━\u001b[0m\u001b[37m\u001b[0m \u001b[1m0s\u001b[0m 18ms/step - accuracy: 0.1413 - loss: 5.1891 - val_accuracy: 0.3810 - val_loss: 5.1506\n",
      "Epoch 4/10\n",
      "\u001b[1m4/4\u001b[0m \u001b[32m━━━━━━━━━━━━━━━━━━━━\u001b[0m\u001b[37m\u001b[0m \u001b[1m0s\u001b[0m 17ms/step - accuracy: 0.3136 - loss: 5.1454 - val_accuracy: 0.9524 - val_loss: 5.1064\n",
      "Epoch 5/10\n",
      "\u001b[1m4/4\u001b[0m \u001b[32m━━━━━━━━━━━━━━━━━━━━\u001b[0m\u001b[37m\u001b[0m \u001b[1m0s\u001b[0m 19ms/step - accuracy: 0.6324 - loss: 5.1097 - val_accuracy: 1.0000 - val_loss: 5.0606\n",
      "Epoch 6/10\n",
      "\u001b[1m4/4\u001b[0m \u001b[32m━━━━━━━━━━━━━━━━━━━━\u001b[0m\u001b[37m\u001b[0m \u001b[1m0s\u001b[0m 17ms/step - accuracy: 0.8643 - loss: 5.0581 - val_accuracy: 1.0000 - val_loss: 5.0119\n",
      "Epoch 7/10\n",
      "\u001b[1m4/4\u001b[0m \u001b[32m━━━━━━━━━━━━━━━━━━━━\u001b[0m\u001b[37m\u001b[0m \u001b[1m0s\u001b[0m 18ms/step - accuracy: 0.9705 - loss: 5.0063 - val_accuracy: 1.0000 - val_loss: 4.9589\n",
      "Epoch 8/10\n",
      "\u001b[1m4/4\u001b[0m \u001b[32m━━━━━━━━━━━━━━━━━━━━\u001b[0m\u001b[37m\u001b[0m \u001b[1m0s\u001b[0m 18ms/step - accuracy: 0.9984 - loss: 4.9469 - val_accuracy: 1.0000 - val_loss: 4.9010\n",
      "Epoch 9/10\n",
      "\u001b[1m4/4\u001b[0m \u001b[32m━━━━━━━━━━━━━━━━━━━━\u001b[0m\u001b[37m\u001b[0m \u001b[1m0s\u001b[0m 18ms/step - accuracy: 1.0000 - loss: 4.9082 - val_accuracy: 1.0000 - val_loss: 4.8379\n",
      "Epoch 10/10\n",
      "\u001b[1m4/4\u001b[0m \u001b[32m━━━━━━━━━━━━━━━━━━━━\u001b[0m\u001b[37m\u001b[0m \u001b[1m0s\u001b[0m 18ms/step - accuracy: 1.0000 - loss: 4.8437 - val_accuracy: 1.0000 - val_loss: 4.7683\n"
     ]
    }
   ],
   "source": [
    "\n",
    "# Train the model\n",
    "history = new_user_model.fit(\n",
    "    X_train_new_user,\n",
    "    y_train_new_user,\n",
    "    epochs=10,  # Adjust the number of epochs as needed\n",
    "    batch_size=64,  # Adjust batch size as needed\n",
    "    validation_data=(X_test_new_user, y_test_new_user)\n",
    ")"
   ]
  },
  {
   "cell_type": "code",
   "execution_count": 123,
   "metadata": {},
   "outputs": [
    {
     "data": {
      "text/plain": [
       "Text(0.5, 0, 'epoch')"
      ]
     },
     "execution_count": 123,
     "metadata": {},
     "output_type": "execute_result"
    },
    {
     "data": {
      "image/png": "[encoded data removed]",
      "text/plain": [
       "<Figure size 1008x504 with 1 Axes>"
      ]
     },
     "metadata": {
      "needs_background": "light"
     },
     "output_type": "display_data"
    }
   ],
   "source": [
    "plt.figure(figsize=(14, 7))\n",
    "plt.plot(history.history['accuracy'])\n",
    "plt.plot(history.history['val_accuracy'])\n",
    "plt.title('model accuracy')\n",
    "plt.ylabel('accuracy')\n",
    "plt.xlabel('epoch')\n"
   ]
  },
  {
   "cell_type": "code",
   "execution_count": 133,
   "metadata": {},
   "outputs": [
    {
     "name": "stdout",
     "output_type": "stream",
     "text": [
      "\u001b[1m2/2\u001b[0m \u001b[32m━━━━━━━━━━━━━━━━━━━━\u001b[0m\u001b[37m\u001b[0m \u001b[1m0s\u001b[0m 6ms/step \n",
      "Predicted Majority Class with Tie-Breaking: 187\n"
     ]
    }
   ],
   "source": [
    "from collections import Counter\n",
    "def majority_voting(model_output):\n",
    "    predicted_classes = np.argmax(model_output, axis=1)\n",
    "    counter = Counter(predicted_classes)\n",
    "    majority_class = counter.most_common(1)[0][0]\n",
    "    return majority_class\n",
    "    \n",
    "\n",
    "output = model.predict(X_test_new_user)\n",
    "# Get the majority class with tie-breaking\n",
    "majority_class_with_tie_breaking = majority_voting(output)\n",
    "\n",
    "print(\"Predicted Majority Class with Tie-Breaking:\", majority_class_with_tie_breaking)"
   ]
  },
  {
   "cell_type": "code",
   "execution_count": null,
   "metadata": {},
   "outputs": [],
   "source": []
  },
  {
   "cell_type": "markdown",
   "metadata": {},
   "source": [
    "#### Now we need to hack around a bit\n",
    "As TFLite currently does not support transfer learning afaik, we now add the new head to the model we want to export and freeze the weights of the base model here already."
   ]
  },
  {
   "cell_type": "code",
   "execution_count": null,
   "metadata": {},
   "outputs": [],
   "source": [
    "new_head = keras.Sequential([\n",
    "    keras.layers.Dense(64, activation=\"relu\"),\n",
    "    keras.layers.Dropout(0.5),\n",
    "    # keras.layers.Dense(num_classes+1, activation=\"softmax\")  # Increased number of classes\n",
    "    keras.layers.Dense(1, activation='softmax')  # Placeholder output, we will reshape this on-device using the java api, like shown below\n",
    "])\n"
   ]
  },
  {
   "cell_type": "markdown",
   "metadata": {},
   "source": [
    "To reshape the output of the new head, we will use something like this on-device:\n",
    "```java\n",
    "import org.tensorflow.lite.Interpreter;\n",
    "\n",
    "// ... Load TFLite model ...\n",
    "\n",
    "try (Interpreter interpreter = new Interpreter(modelFile)) {\n",
    "    // Get output tensor index and dimensions\n",
    "    int outputIndex = interpreter.getOutputIndex(0);\n",
    "    int[] outputDims = interpreter.getOutputTensor(outputIndex).shape();\n",
    "\n",
    "    // Modify the number of classes (new_num_classes is your desired value)\n",
    "    int newNumClasses = ...;  // Get new number of classes from your logic\n",
    "    int[] newOutputShape = {outputDims[0], newNumClasses};  // Batch size, newNumClasses\n",
    "\n",
    "    // Resize the output tensor\n",
    "    interpreter.resizeInputTensor(outputIndex, newOutputShape);\n",
    "    interpreter.allocateTensors();\n",
    "\n",
    "    // ... (Start training) ...\n",
    "}\n",
    "```"
   ]
  },
  {
   "cell_type": "code",
   "execution_count": 212,
   "metadata": {},
   "outputs": [],
   "source": [
    "\n",
    "for layer in base_model.layers: #[:-1]:  \n",
    "    layer.trainable = False\n",
    "\n",
    "new_user_model = keras.Sequential([\n",
    "    base_model,\n",
    "    new_head\n",
    "])\n",
    "\n",
    "class ModelToConvert(tf.Module):\n",
    "    def __init__(self):\n",
    "        self.model = keras.Sequential([\n",
    "            base_model,\n",
    "            new_head\n",
    "        ])\n",
    "        \n",
    "        self.model.compile(\n",
    "            optimizer=\"adam\",\n",
    "            loss=\"sparse_categorical_crossentropy\",  # Assuming integer labels (new_user_id)\n",
    "            metrics=[\"accuracy\"]\n",
    "        )\n",
    "\n",
    "    @tf.function(input_signature=[\n",
    "        tf.TensorSpec(shape=[None, num_timesteps, num_features], dtype=tf.float32),\n",
    "        tf.TensorSpec(shape=[None], dtype=tf.int32)\n",
    "    ])\n",
    "    def train(self, X, y):\n",
    "        with tf.GradientTape() as tape:\n",
    "            predictions = self.model(X, training=True)\n",
    "            loss = self.model.compute_loss(X, y, predictions)\n",
    "        \n",
    "        gradients = tape.gradient(loss, self.model.trainable_variables)\n",
    "        self.model.optimizer.apply_gradients(zip(gradients, self.model.trainable_variables))\n",
    "\n",
    "        # # Update metrics\n",
    "        # for metric in self.model.metrics:\n",
    "        #    metric.update_state(y, predictions)\n",
    "\n",
    "        self.model.compiled_metrics.update_state(y, predictions)\n",
    "        result_metrics = {m.name: m.result() for m in self.model.metrics}\n",
    "        result_metrics['loss'] = loss\n",
    "        return result_metrics\n",
    "\n",
    "    @tf.function(input_signature=[\n",
    "        tf.TensorSpec(shape=[None, num_timesteps, num_features], dtype=tf.float32)\n",
    "    ])\n",
    "    def infer(self, x):\n",
    "        probas = self.model(x, training=False)\n",
    "        return {'probabilities': probas}\n",
    "    \n",
    "    @tf.function(input_signature=[tf.TensorSpec(shape=[], dtype=tf.string)])\n",
    "    def save(self, checkpoint_path):\n",
    "        checkpoint = tf.train.Checkpoint(model=self.model)\n",
    "        saved_path = checkpoint.write(checkpoint_path)\n",
    "        return {'checkpoint_path': saved_path}\n",
    "\n",
    "    @tf.function(input_signature=[tf.TensorSpec(shape=[], dtype=tf.string)])\n",
    "    def restore(self, checkpoint_path):\n",
    "        checkpoint = tf.train.Checkpoint(model=self.model)\n",
    "\n",
    "        try:\n",
    "            checkpoint.restore(checkpoint_path)\n",
    "            return {'restored': True}\n",
    "        except tf.errors.NotFoundError:\n",
    "            # Handle the case where the checkpoint file is not found\n",
    "            return {'restored': False, 'error': 'Checkpoint not found'}"
   ]
  },
  {
   "cell_type": "code",
   "execution_count": 214,
   "metadata": {},
   "outputs": [
    {
     "data": {
      "text/plain": [
       "{'loss': <tf.Tensor: shape=(), dtype=float32, numpy=4.4359574>,\n",
       " 'compile_metrics': {'accuracy': <tf.Tensor: shape=(), dtype=float32, numpy=1.0>}}"
      ]
     },
     "execution_count": 214,
     "metadata": {},
     "output_type": "execute_result"
    }
   ],
   "source": [
    "model_to_convert = ModelToConvert()\n",
    "\n",
    "# train the model\n",
    "model_to_convert.train(X_train_new_user, y_train_new_user)"
   ]
  },
  {
   "cell_type": "code",
   "execution_count": 220,
   "metadata": {},
   "outputs": [],
   "source": [
    "predicted_class = majority_voting(model_to_convert.infer(X_test_new_user)['probabilities'])"
   ]
  },
  {
   "cell_type": "code",
   "execution_count": 222,
   "metadata": {},
   "outputs": [
    {
     "data": {
      "text/plain": [
       "186"
      ]
     },
     "execution_count": 222,
     "metadata": {},
     "output_type": "execute_result"
    }
   ],
   "source": [
    "predicted_class"
   ]
  },
  {
   "cell_type": "code",
   "execution_count": 215,
   "metadata": {},
   "outputs": [
    {
     "data": {
      "text/plain": [
       "{'checkpoint_path': <tf.Tensor: shape=(), dtype=string, numpy=b'model_checkpoint'>}"
      ]
     },
     "execution_count": 215,
     "metadata": {},
     "output_type": "execute_result"
    }
   ],
   "source": [
    "model_to_convert.save('model_checkpoint')"
   ]
  },
  {
   "cell_type": "code",
   "execution_count": 216,
   "metadata": {},
   "outputs": [
    {
     "ename": "TypeError",
     "evalue": "in user code:\n\n    File \"C:\\Users\\Lks\\AppData\\Local\\Temp\\ipykernel_17676\\3914707437.py\", line 61, in restore  *\n        checkpoint.restore(checkpoint_path)\n\n    TypeError: Expected binary or unicode string, got <tf.Tensor 'checkpoint_path:0' shape=() dtype=string>\n",
     "output_type": "error",
     "traceback": [
      "\u001b[1;31m---------------------------------------------------------------------------\u001b[0m",
      "\u001b[1;31mTypeError\u001b[0m                                 Traceback (most recent call last)",
      "\u001b[1;32m~\\AppData\\Local\\Temp\\ipykernel_17676\\1666627075.py\u001b[0m in \u001b[0;36m<cell line: 1>\u001b[1;34m()\u001b[0m\n\u001b[1;32m----> 1\u001b[1;33m \u001b[0mmodel_to_convert\u001b[0m\u001b[1;33m.\u001b[0m\u001b[0mrestore\u001b[0m\u001b[1;33m(\u001b[0m\u001b[1;34m'model_checkpoint'\u001b[0m\u001b[1;33m)\u001b[0m\u001b[1;33m\u001b[0m\u001b[1;33m\u001b[0m\u001b[0m\n\u001b[0m",
      "\u001b[1;32mc:\\Users\\Lks\\AppData\\Local\\Programs\\Python\\Python310\\lib\\site-packages\\tensorflow\\python\\util\\traceback_utils.py\u001b[0m in \u001b[0;36merror_handler\u001b[1;34m(*args, **kwargs)\u001b[0m\n\u001b[0;32m    151\u001b[0m     \u001b[1;32mexcept\u001b[0m \u001b[0mException\u001b[0m \u001b[1;32mas\u001b[0m \u001b[0me\u001b[0m\u001b[1;33m:\u001b[0m\u001b[1;33m\u001b[0m\u001b[1;33m\u001b[0m\u001b[0m\n\u001b[0;32m    152\u001b[0m       \u001b[0mfiltered_tb\u001b[0m \u001b[1;33m=\u001b[0m \u001b[0m_process_traceback_frames\u001b[0m\u001b[1;33m(\u001b[0m\u001b[0me\u001b[0m\u001b[1;33m.\u001b[0m\u001b[0m__traceback__\u001b[0m\u001b[1;33m)\u001b[0m\u001b[1;33m\u001b[0m\u001b[1;33m\u001b[0m\u001b[0m\n\u001b[1;32m--> 153\u001b[1;33m       \u001b[1;32mraise\u001b[0m \u001b[0me\u001b[0m\u001b[1;33m.\u001b[0m\u001b[0mwith_traceback\u001b[0m\u001b[1;33m(\u001b[0m\u001b[0mfiltered_tb\u001b[0m\u001b[1;33m)\u001b[0m \u001b[1;32mfrom\u001b[0m \u001b[1;32mNone\u001b[0m\u001b[1;33m\u001b[0m\u001b[1;33m\u001b[0m\u001b[0m\n\u001b[0m\u001b[0;32m    154\u001b[0m     \u001b[1;32mfinally\u001b[0m\u001b[1;33m:\u001b[0m\u001b[1;33m\u001b[0m\u001b[1;33m\u001b[0m\u001b[0m\n\u001b[0;32m    155\u001b[0m       \u001b[1;32mdel\u001b[0m \u001b[0mfiltered_tb\u001b[0m\u001b[1;33m\u001b[0m\u001b[1;33m\u001b[0m\u001b[0m\n",
      "\u001b[1;32m~\\AppData\\Local\\Temp\\__autograph_generated_filew5lq8mt7.py\u001b[0m in \u001b[0;36mtf__restore\u001b[1;34m(self, checkpoint_path)\u001b[0m\n\u001b[0;32m     10\u001b[0m                 \u001b[0mcheckpoint\u001b[0m \u001b[1;33m=\u001b[0m \u001b[0mag__\u001b[0m\u001b[1;33m.\u001b[0m\u001b[0mconverted_call\u001b[0m\u001b[1;33m(\u001b[0m\u001b[0mag__\u001b[0m\u001b[1;33m.\u001b[0m\u001b[0mld\u001b[0m\u001b[1;33m(\u001b[0m\u001b[0mtf\u001b[0m\u001b[1;33m)\u001b[0m\u001b[1;33m.\u001b[0m\u001b[0mtrain\u001b[0m\u001b[1;33m.\u001b[0m\u001b[0mCheckpoint\u001b[0m\u001b[1;33m,\u001b[0m \u001b[1;33m(\u001b[0m\u001b[1;33m)\u001b[0m\u001b[1;33m,\u001b[0m \u001b[0mdict\u001b[0m\u001b[1;33m(\u001b[0m\u001b[0mmodel\u001b[0m\u001b[1;33m=\u001b[0m\u001b[0mag__\u001b[0m\u001b[1;33m.\u001b[0m\u001b[0mld\u001b[0m\u001b[1;33m(\u001b[0m\u001b[0mself\u001b[0m\u001b[1;33m)\u001b[0m\u001b[1;33m.\u001b[0m\u001b[0mmodel\u001b[0m\u001b[1;33m)\u001b[0m\u001b[1;33m,\u001b[0m \u001b[0mfscope\u001b[0m\u001b[1;33m)\u001b[0m\u001b[1;33m\u001b[0m\u001b[1;33m\u001b[0m\u001b[0m\n\u001b[0;32m     11\u001b[0m                 \u001b[1;32mtry\u001b[0m\u001b[1;33m:\u001b[0m\u001b[1;33m\u001b[0m\u001b[1;33m\u001b[0m\u001b[0m\n\u001b[1;32m---> 12\u001b[1;33m                     \u001b[0mag__\u001b[0m\u001b[1;33m.\u001b[0m\u001b[0mconverted_call\u001b[0m\u001b[1;33m(\u001b[0m\u001b[0mag__\u001b[0m\u001b[1;33m.\u001b[0m\u001b[0mld\u001b[0m\u001b[1;33m(\u001b[0m\u001b[0mcheckpoint\u001b[0m\u001b[1;33m)\u001b[0m\u001b[1;33m.\u001b[0m\u001b[0mrestore\u001b[0m\u001b[1;33m,\u001b[0m \u001b[1;33m(\u001b[0m\u001b[0mag__\u001b[0m\u001b[1;33m.\u001b[0m\u001b[0mld\u001b[0m\u001b[1;33m(\u001b[0m\u001b[0mcheckpoint_path\u001b[0m\u001b[1;33m)\u001b[0m\u001b[1;33m,\u001b[0m\u001b[1;33m)\u001b[0m\u001b[1;33m,\u001b[0m \u001b[1;32mNone\u001b[0m\u001b[1;33m,\u001b[0m \u001b[0mfscope\u001b[0m\u001b[1;33m)\u001b[0m\u001b[1;33m\u001b[0m\u001b[1;33m\u001b[0m\u001b[0m\n\u001b[0m\u001b[0;32m     13\u001b[0m                     \u001b[1;32mtry\u001b[0m\u001b[1;33m:\u001b[0m\u001b[1;33m\u001b[0m\u001b[1;33m\u001b[0m\u001b[0m\n\u001b[0;32m     14\u001b[0m                         \u001b[0mdo_return\u001b[0m \u001b[1;33m=\u001b[0m \u001b[1;32mTrue\u001b[0m\u001b[1;33m\u001b[0m\u001b[1;33m\u001b[0m\u001b[0m\n",
      "\u001b[1;31mTypeError\u001b[0m: in user code:\n\n    File \"C:\\Users\\Lks\\AppData\\Local\\Temp\\ipykernel_17676\\3914707437.py\", line 61, in restore  *\n        checkpoint.restore(checkpoint_path)\n\n    TypeError: Expected binary or unicode string, got <tf.Tensor 'checkpoint_path:0' shape=() dtype=string>\n"
     ]
    }
   ],
   "source": [
    "model_to_convert.restore('model_checkpoint')"
   ]
  },
  {
   "cell_type": "markdown",
   "metadata": {},
   "source": [
    "## TODO NOTES\n",
    "https://colab.research.google.com/github/tensorflow/tensorflow/blob/master/tensorflow/lite/g3doc/examples/on_device_training/overview.ipynb#scrollTo=d8577c80\n",
    "https://blog.tensorflow.org/2021/11/on-device-training-in-tensorflow-lite.html\n",
    "https://www.tensorflow.org/lite/android/quickstart\n",
    "https://www.tensorflow.org/lite/guide/inference"
   ]
  }
 ],
 "metadata": {
  "kernelspec": {
   "display_name": "venv",
   "language": "python",
   "name": "python3"
  },
  "language_info": {
   "codemirror_mode": {
    "name": "ipython",
    "version": 3
   },
   "file_extension": ".py",
   "mimetype": "text/x-python",
   "name": "python",
   "nbconvert_exporter": "python",
   "pygments_lexer": "ipython3",
   "version": "3.10.2"
  }
 },
 "nbformat": 4,
 "nbformat_minor": 2
}
